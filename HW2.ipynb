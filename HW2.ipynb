{
 "cells": [
  {
   "cell_type": "code",
   "execution_count": 236,
   "metadata": {
    "collapsed": true
   },
   "outputs": [],
   "source": [
    "import requests\n",
    "from lxml import html\n",
    "import re\n",
    "\n",
    "headers = {\n",
    "            'User-Agent': 'Mozilla/5.0 (Windows NT 10.0; Win64; x64) AppleWebKit/537.36 (KHTML, like Gecko) Chrome/109.0.0.0 Safari/537.36',\n",
    "}"
   ]
  },
  {
   "cell_type": "code",
   "execution_count": 262,
   "outputs": [],
   "source": [
    "def news_parser(site):\n",
    "    req = requests.get(site)\n",
    "    root = html.fromstring(req.text)\n",
    "    news_ser = []\n",
    "    if site=='https://lenta.ru':\n",
    "        #все новости за последние 24 часа если сайт https://lenta.ru'\n",
    "        main_news = root.xpath('//div[@class=\"last24\"]/a')\n",
    "        for news in main_news:\n",
    "            #из найденых новостей достаем все необходимое\n",
    "            a = news.xpath('div/span')\n",
    "            news_ser.append({'news_source':site, 'news_txt':a[0].text, 'news_link':site + news.xpath('@href')[0], 'date':re.search('\\\\d\\\\d\\\\d\\\\d/\\\\d\\\\d/\\\\d\\\\d', news.xpath('@href')[0]).group()})\n",
    "\n",
    "    if site=='https://news.mail.ru/':\n",
    "        #главные новости сайта https://news.mail.ru\n",
    "        main_news = root.xpath('//ul[@class = \"list list_type_square list_half js-module\"]/li/span[@class = \"list__item__inner\"]/a')\n",
    "        for news in main_news:\n",
    "            news_link = news.xpath('@href')[0] #адресс новости\n",
    "            news_root = html.fromstring(requests.get(news_link).text) #загружаем страницу с новостью\n",
    "            news_date = news_root.xpath('//span[@class=\"note__text breadcrumbs__text js-ago\"]')[0].attrib['datetime'] #парсим дату\n",
    "            news_source = news_root.xpath('//span[@class=\"breadcrumbs__item\"]/span/a/@href')[0] #парсим источник\n",
    "            news_ser.append({'news_source':news_source, 'news_txt':news.text, 'news_link':news_link, 'date':news_date})\n",
    "\n",
    "    return news_ser"
   ],
   "metadata": {
    "collapsed": false
   }
  },
  {
   "cell_type": "code",
   "execution_count": 187,
   "outputs": [
    {
     "name": "stdout",
     "output_type": "stream",
     "text": [
      "[{'news_source': 'https://lenta.ru', 'news_txt': 'Стало известно о подготовке в ООН рекордной антироссийской резолюции', 'news_link': 'https://lenta.ru/news/2023/02/13/lizoryutsiya/', 'date': '2023/02/13'}, {'news_source': 'https://lenta.ru', 'news_txt': 'МИД Украины пообещал «великие события» в годовщину начала спецоперации', 'news_link': 'https://lenta.ru/news/2023/02/13/great/', 'date': '2023/02/13'}, {'news_source': 'https://lenta.ru', 'news_txt': 'Военные самолеты сбили неопознанный объект на северо-западе Канады', 'news_link': 'https://lenta.ru/news/2023/02/12/canada_objekt/', 'date': '2023/02/12'}, {'news_source': 'https://lenta.ru', 'news_txt': 'Судан пересмотрел соглашение о размещении российской военно-морской базы', 'news_link': 'https://lenta.ru/news/2023/02/12/sudan/', 'date': '2023/02/12'}, {'news_source': 'https://lenta.ru', 'news_txt': 'Президент Польши усомнился в передаче Украине истребителей', 'news_link': 'https://lenta.ru/news/2023/02/12/f16/', 'date': '2023/02/12'}, {'news_source': 'https://lenta.ru', 'news_txt': 'На Украине заявили о применении Россией надводных дронов в Черном море', 'news_link': 'https://lenta.ru/news/2023/02/11/zaluzhny/', 'date': '2023/02/11'}]\n"
     ]
    }
   ],
   "source": [
    "print(news_parser('https://lenta.ru'))"
   ],
   "metadata": {
    "collapsed": false
   }
  },
  {
   "cell_type": "code",
   "execution_count": 263,
   "outputs": [
    {
     "name": "stdout",
     "output_type": "stream",
     "text": [
      "[{'news_source': 'http://www.kommersant.ru', 'news_txt': 'В\\xa0Пентагоне рассказали, почему выросло число НЛО в\\xa0небе США', 'news_link': 'https://news.mail.ru/politics/55038520/', 'date': '2023-02-13T11:46:10+03:00'}, {'news_source': 'http://www.ria.ru', 'news_txt': 'Москва предупредила Токио об ответе на\\xa0ракеты у\\xa0границ России', 'news_link': 'https://news.mail.ru/politics/55034491/', 'date': '2023-02-13T06:15:57+03:00'}, {'news_source': 'http://www.kommersant.ru', 'news_txt': 'Посольство США снова призвало американцев покинуть Россию', 'news_link': 'https://news.mail.ru/politics/55035350/', 'date': '2023-02-13T08:46:53+03:00'}, {'news_source': 'https://lenta.ru/', 'news_txt': 'На\\xa0Украине обозначили срок переговоров о\\xa0вступлении в\\xa0ЕС', 'news_link': 'https://news.mail.ru/politics/55037352/', 'date': '2023-02-13T10:33:51+03:00'}, {'news_source': 'https://life.ru/', 'news_txt': 'Жителям Центральной России сообщили, стоит\\xa0ли\\xa0ждать ранней весны', 'news_link': 'https://pogoda.mail.ru/news/55036442/', 'date': '2023-02-13T09:55:40+03:00'}, {'news_source': 'https://life.ru/', 'news_txt': 'Как по\\xa0наследству получить пенсию родственника', 'news_link': 'https://news.mail.ru/society/55036448/', 'date': '2023-02-13T10:16:36+03:00'}, {'news_source': 'http://www.ria.ru', 'news_txt': 'В России заработала система поиска запрещенного контента в Сети', 'news_link': 'https://news.mail.ru/society/55036277/', 'date': '2023-02-13T11:43:15+03:00'}, {'news_source': 'http://www.kommersant.ru', 'news_txt': 'Кадыров рассказал о\\xa0попытке отравления его помощника Алаудинова', 'news_link': 'https://news.mail.ru/incident/55036624/', 'date': '2023-02-13T10:37:46+03:00'}]\n"
     ]
    }
   ],
   "source": [
    "print(news_parser('https://news.mail.ru/'))"
   ],
   "metadata": {
    "collapsed": false
   }
  }
 ],
 "metadata": {
  "kernelspec": {
   "display_name": "Python 3",
   "language": "python",
   "name": "python3"
  },
  "language_info": {
   "codemirror_mode": {
    "name": "ipython",
    "version": 2
   },
   "file_extension": ".py",
   "mimetype": "text/x-python",
   "name": "python",
   "nbconvert_exporter": "python",
   "pygments_lexer": "ipython2",
   "version": "2.7.6"
  }
 },
 "nbformat": 4,
 "nbformat_minor": 0
}
