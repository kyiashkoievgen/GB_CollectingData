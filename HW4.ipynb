{
 "cells": [
  {
   "cell_type": "code",
   "execution_count": 14,
   "metadata": {
    "collapsed": true
   },
   "outputs": [],
   "source": [
    "from pymongo import MongoClient\n",
    "from pymongo.errors import DuplicateKeyError\n",
    "from bs4 import BeautifulSoup as bs\n",
    "import requests\n",
    "import pandas as pd\n",
    "import re\n",
    "headers = {\n",
    "            'User-Agent': 'Mozilla/5.0 (Windows NT 10.0; Win64; x64) AppleWebKit/537.36 (KHTML, like Gecko) Chrome/109.0.0.0 Safari/537.36',\n",
    "}\n",
    "url = 'https://hh.ru/search/vacancy'\n",
    "query = {\n",
    "     'text':'Python',\n",
    "     'salary':'',\n",
    "     'area':'1',\n",
    "     'ored_clusters':'true',\n",
    "}"
   ]
  },
  {
   "cell_type": "code",
   "execution_count": 11,
   "outputs": [],
   "source": [
    "req = requests.get(url, headers=headers, params=query)\n",
    "Dom = bs(req.text, 'html.parser')"
   ],
   "metadata": {
    "collapsed": false
   }
  },
  {
   "cell_type": "code",
   "execution_count": 12,
   "outputs": [],
   "source": [
    "client = MongoClient()"
   ],
   "metadata": {
    "collapsed": false
   }
  },
  {
   "cell_type": "code",
   "execution_count": 13,
   "outputs": [],
   "source": [
    "DB = client['db_vacancion'].vacancion"
   ],
   "metadata": {
    "collapsed": false
   }
  },
  {
   "cell_type": "code",
   "execution_count": 15,
   "outputs": [],
   "source": [
    "def add_vacancion(db, dom): #добавляем вакансии\n",
    "    price = dom.findAll('span', {'class': 'bloko-header-section-3'})\n",
    "    for row in price:\n",
    "        links = row.parent()[0].findAll('a', {'class':'serp-item__title'})[0]\n",
    "        name_vocancion = links.text\n",
    "        link_vocancion = links.get_attribute_list(key='href')[0]\n",
    "        document = {\n",
    "            '_id': name_vocancion, #id документа это название вакансии\n",
    "            'link': link_vocancion,\n",
    "            'salory':row.text,\n",
    "        }\n",
    "        try: #если вакансия повторяеться выходит исключение и вакансия не добавляеться\n",
    "            db.insert_one(document)\n",
    "        except DuplicateKeyError:\n",
    "            print('Duplicate Key')\n"
   ],
   "metadata": {
    "collapsed": false
   }
  },
  {
   "cell_type": "code",
   "execution_count": 17,
   "outputs": [
    {
     "name": "stdout",
     "output_type": "stream",
     "text": [
      "Duplicate Key\n",
      "Duplicate Key\n",
      "Duplicate Key\n",
      "Duplicate Key\n",
      "Duplicate Key\n",
      "Duplicate Key\n",
      "Duplicate Key\n",
      "Duplicate Key\n",
      "Duplicate Key\n",
      "Duplicate Key\n",
      "Duplicate Key\n"
     ]
    }
   ],
   "source": [
    "add_vacancion(DB, Dom)"
   ],
   "metadata": {
    "collapsed": false
   }
  },
  {
   "cell_type": "code",
   "execution_count": 25,
   "outputs": [],
   "source": [
    "def find_salary(db, value):\n",
    "    for data in db.find({'salory':{'$gt':value}}): #ищим по значению зарплаты\n",
    "        print(data)"
   ],
   "metadata": {
    "collapsed": false
   }
  },
  {
   "cell_type": "code",
   "execution_count": 27,
   "outputs": [
    {
     "name": "stdout",
     "output_type": "stream",
     "text": [
      "{'_id': 'Java разработчик в команду \"Навыки\"', 'link': 'https://hh.ru/vacancy/76713727?from=vacancy_search_list&query=Python', 'salory': 350000}\n",
      "{'_id': 'Middle / Senior QA инженер', 'link': 'https://hh.ru/vacancy/47759634?from=vacancy_search_list&query=Python', 'salory': 200000}\n",
      "{'_id': 'Data science', 'link': 'https://hh.ru/vacancy/75914060?from=vacancy_search_list&query=Python', 'salory': 180000}\n",
      "{'_id': 'Python Backend Developer (Junior/Remote)', 'link': 'https://hh.ru/vacancy/76891416?from=vacancy_search_list&query=Python', 'salory': 150000}\n"
     ]
    }
   ],
   "source": [
    "find_salary(DB, 130000)"
   ],
   "metadata": {
    "collapsed": false
   }
  },
  {
   "cell_type": "code",
   "execution_count": null,
   "outputs": [],
   "source": [],
   "metadata": {
    "collapsed": false
   }
  }
 ],
 "metadata": {
  "kernelspec": {
   "display_name": "Python 3",
   "language": "python",
   "name": "python3"
  },
  "language_info": {
   "codemirror_mode": {
    "name": "ipython",
    "version": 2
   },
   "file_extension": ".py",
   "mimetype": "text/x-python",
   "name": "python",
   "nbconvert_exporter": "python",
   "pygments_lexer": "ipython2",
   "version": "2.7.6"
  }
 },
 "nbformat": 4,
 "nbformat_minor": 0
}
