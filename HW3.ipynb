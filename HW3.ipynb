{
 "cells": [
  {
   "cell_type": "code",
   "execution_count": 91,
   "metadata": {
    "collapsed": true
   },
   "outputs": [],
   "source": [
    "from bs4 import BeautifulSoup as bs\n",
    "import requests\n",
    "import pandas as pd\n",
    "import re\n",
    "headers = {\n",
    "            'User-Agent': 'Mozilla/5.0 (Windows NT 10.0; Win64; x64) AppleWebKit/537.36 (KHTML, like Gecko) Chrome/109.0.0.0 Safari/537.36',\n",
    "}\n",
    "url = 'https://hh.ru/search/vacancy'\n",
    "query = {\n",
    "     'text':'Python',\n",
    "     'salary':'',\n",
    "     'area':'1',\n",
    "     'ored_clusters':'true',\n",
    "}"
   ]
  },
  {
   "cell_type": "code",
   "execution_count": 11,
   "outputs": [],
   "source": [
    "req = requests.get(url, headers=headers, params=query)\n",
    "dom = bs(req.text, 'html.parser')"
   ],
   "metadata": {
    "collapsed": false
   }
  },
  {
   "cell_type": "code",
   "execution_count": 86,
   "outputs": [],
   "source": [
    "df = pd.DataFrame()\n",
    "df['site'] = 'https://hh.ru'\n",
    "while True:\n",
    "    price = dom.findAll('span', {'class': 'bloko-header-section-3'})\n",
    "    for row in price:\n",
    "        links = row.parent()[0].findAll('a', {'class':'serp-item__title'})[0]\n",
    "        name_vocancion = links.text\n",
    "        link_vocancion = links.get_attribute_list(key='href')[0]\n",
    "        df = pd.concat([df, pd.DataFrame([{'name': name_vocancion, 'link': link_vocancion, 'salory':row.text }])])\n",
    "    next_link = dom.findAll('a', {'data-qa':\"pager-next\"})\n",
    "    if len(next_link)>0:\n",
    "        url= 'https://hh.ru' + next_link[0].get_attribute_list(key='href')[0]\n",
    "        req = requests.get(url, headers=headers)\n",
    "        dom = bs(req.text, 'html.parser')\n",
    "    else:\n",
    "        break"
   ],
   "metadata": {
    "collapsed": false
   }
  },
  {
   "cell_type": "code",
   "execution_count": 114,
   "outputs": [],
   "source": [
    "df.to_csv('3.csv')"
   ],
   "metadata": {
    "collapsed": false
   }
  },
  {
   "cell_type": "code",
   "execution_count": 112,
   "outputs": [],
   "source": [],
   "metadata": {
    "collapsed": false
   }
  }
 ],
 "metadata": {
  "kernelspec": {
   "display_name": "Python 3",
   "language": "python",
   "name": "python3"
  },
  "language_info": {
   "codemirror_mode": {
    "name": "ipython",
    "version": 2
   },
   "file_extension": ".py",
   "mimetype": "text/x-python",
   "name": "python",
   "nbconvert_exporter": "python",
   "pygments_lexer": "ipython2",
   "version": "2.7.6"
  }
 },
 "nbformat": 4,
 "nbformat_minor": 0
}
